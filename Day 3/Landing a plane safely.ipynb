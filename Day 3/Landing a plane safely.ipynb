{
 "cells": [
  {
   "cell_type": "code",
   "execution_count": 12,
   "metadata": {},
   "outputs": [
    {
     "name": "stdout",
     "output_type": "stream",
     "text": [
      "Presently, at which altittude are you on? 1000\n",
      "Safe to land.\n"
     ]
    }
   ],
   "source": [
    "# Getting the input of present altitude of plane\n",
    "altitude = int(input(\"Presently, at which altittude are you on? \"))\n",
    "\n",
    "if altitude <= 1000 :\n",
    "    print(\"Safe to land.\")\n",
    "elif altitude > 5000 :\n",
    "    print(\"Turn around and try again later.\")\n",
    "else :\n",
    "    print(\"Bring down to 1000\")"
   ]
  }
 ],
 "metadata": {
  "kernelspec": {
   "display_name": "Python 3",
   "language": "python",
   "name": "python3"
  },
  "language_info": {
   "codemirror_mode": {
    "name": "ipython",
    "version": 3
   },
   "file_extension": ".py",
   "mimetype": "text/x-python",
   "name": "python",
   "nbconvert_exporter": "python",
   "pygments_lexer": "ipython3",
   "version": "3.8.3"
  }
 },
 "nbformat": 4,
 "nbformat_minor": 4
}
