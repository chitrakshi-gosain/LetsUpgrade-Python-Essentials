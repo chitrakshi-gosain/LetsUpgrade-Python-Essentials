{
 "cells": [
  {
   "cell_type": "markdown",
   "metadata": {},
   "source": [
    "# Declaring a list"
   ]
  },
  {
   "cell_type": "code",
   "execution_count": 144,
   "metadata": {},
   "outputs": [],
   "source": [
    "lst = [\"Chitrakshi\", \"Gosain\", 19, [\"chitrakshi\", 6072, \"@\", \"gmail\", \".\", \"com\"], \"New Delhi\"]"
   ]
  },
  {
   "cell_type": "markdown",
   "metadata": {},
   "source": [
    "# Implementing various methods of 'List' Object"
   ]
  },
  {
   "cell_type": "markdown",
   "metadata": {},
   "source": [
    "# -> Append"
   ]
  },
  {
   "cell_type": "code",
   "execution_count": 145,
   "metadata": {},
   "outputs": [],
   "source": [
    "# Adds an element to the end of a list\n",
    "# Syntax: list.append(item)\n",
    "# 'item' can be numbers, strings, dictionaries, another list, etc.\n",
    "# This method doesn't return any value. "
   ]
  },
  {
   "cell_type": "code",
   "execution_count": 146,
   "metadata": {},
   "outputs": [
    {
     "data": {
      "text/plain": [
       "['Chitrakshi',\n",
       " 'Gosain',\n",
       " 19,\n",
       " ['chitrakshi', 6072, '@', 'gmail', '.', 'com'],\n",
       " 'New Delhi',\n",
       " 'UNSW Sydney']"
      ]
     },
     "execution_count": 146,
     "metadata": {},
     "output_type": "execute_result"
    }
   ],
   "source": [
    "lst.append(\"UNSW Sydney\")\n",
    "lst"
   ]
  },
  {
   "cell_type": "code",
   "execution_count": 147,
   "metadata": {},
   "outputs": [
    {
     "data": {
      "text/plain": [
       "['My Introduction',\n",
       " ['Chitrakshi',\n",
       "  'Gosain',\n",
       "  19,\n",
       "  ['chitrakshi', 6072, '@', 'gmail', '.', 'com'],\n",
       "  'New Delhi',\n",
       "  'UNSW Sydney']]"
      ]
     },
     "execution_count": 147,
     "metadata": {},
     "output_type": "execute_result"
    }
   ],
   "source": [
    "lst1 = [\"My Introduction\"]\n",
    "lst1.append(lst)\n",
    "lst1"
   ]
  },
  {
   "cell_type": "markdown",
   "metadata": {},
   "source": [
    "# -> Copy"
   ]
  },
  {
   "cell_type": "code",
   "execution_count": 148,
   "metadata": {},
   "outputs": [],
   "source": [
    "# Makes a shallow copy of the list\n",
    "# Syntax: new_list = old_list.copy()\n",
    "# This method does not take any parameters.\n",
    "# This method returns a new list. It doesn't modify the original list."
   ]
  },
  {
   "cell_type": "code",
   "execution_count": 149,
   "metadata": {},
   "outputs": [
    {
     "data": {
      "text/plain": [
       "['Chitrakshi',\n",
       " 'Gosain',\n",
       " 19,\n",
       " ['chitrakshi', 6072, '@', 'gmail', '.', 'com'],\n",
       " 'New Delhi',\n",
       " 'UNSW Sydney']"
      ]
     },
     "execution_count": 149,
     "metadata": {},
     "output_type": "execute_result"
    }
   ],
   "source": [
    "lst2 = lst.copy()\n",
    "lst2"
   ]
  },
  {
   "cell_type": "markdown",
   "metadata": {},
   "source": [
    "# -> Clear"
   ]
  },
  {
   "cell_type": "code",
   "execution_count": 150,
   "metadata": {},
   "outputs": [],
   "source": [
    "# Clears the list\n",
    "# Syntax: list.clear()\n",
    "# This method does not take any parameters.\n",
    "# This method only empties the given list. It doesn't return any value"
   ]
  },
  {
   "cell_type": "code",
   "execution_count": 151,
   "metadata": {},
   "outputs": [
    {
     "data": {
      "text/plain": [
       "[]"
      ]
     },
     "execution_count": 151,
     "metadata": {},
     "output_type": "execute_result"
    }
   ],
   "source": [
    "lst1.clear()\n",
    "lst1"
   ]
  },
  {
   "cell_type": "code",
   "execution_count": 152,
   "metadata": {},
   "outputs": [
    {
     "data": {
      "text/plain": [
       "['Chitrakshi',\n",
       " 'Gosain',\n",
       " 19,\n",
       " ['chitrakshi', 6072, '@', 'gmail', '.', 'com'],\n",
       " 'New Delhi',\n",
       " 'UNSW Sydney']"
      ]
     },
     "execution_count": 152,
     "metadata": {},
     "output_type": "execute_result"
    }
   ],
   "source": [
    "lst"
   ]
  },
  {
   "cell_type": "markdown",
   "metadata": {},
   "source": [
    "# -> Count"
   ]
  },
  {
   "cell_type": "code",
   "execution_count": 153,
   "metadata": {},
   "outputs": [],
   "source": [
    "# Counts the number of times the specified element appears in the list.\n",
    "# Syntax: old_list.count(element)\n",
    "# 'element' - the element to be counted\n",
    "# This method returns the number of times 'element' appears in the list."
   ]
  },
  {
   "cell_type": "code",
   "execution_count": 154,
   "metadata": {},
   "outputs": [
    {
     "data": {
      "text/plain": [
       "1"
      ]
     },
     "execution_count": 154,
     "metadata": {},
     "output_type": "execute_result"
    }
   ],
   "source": [
    "lst.count(19)"
   ]
  },
  {
   "cell_type": "code",
   "execution_count": 155,
   "metadata": {},
   "outputs": [
    {
     "data": {
      "text/plain": [
       "1"
      ]
     },
     "execution_count": 155,
     "metadata": {},
     "output_type": "execute_result"
    }
   ],
   "source": [
    "lst.count(\"Gosain\")"
   ]
  },
  {
   "cell_type": "code",
   "execution_count": 156,
   "metadata": {},
   "outputs": [
    {
     "data": {
      "text/plain": [
       "0"
      ]
     },
     "execution_count": 156,
     "metadata": {},
     "output_type": "execute_result"
    }
   ],
   "source": [
    "lst.count(\"@\")"
   ]
  },
  {
   "cell_type": "code",
   "execution_count": 157,
   "metadata": {},
   "outputs": [
    {
     "data": {
      "text/plain": [
       "1"
      ]
     },
     "execution_count": 157,
     "metadata": {},
     "output_type": "execute_result"
    }
   ],
   "source": [
    "# We can also count list(s), set(s) or tuple(s) within the list\n",
    "lst.count(['chitrakshi', 6072, '@', 'gmail', '.', 'com'])"
   ]
  },
  {
   "cell_type": "markdown",
   "metadata": {},
   "source": [
    "# -> Extend"
   ]
  },
  {
   "cell_type": "code",
   "execution_count": 158,
   "metadata": {},
   "outputs": [],
   "source": [
    "# Adds all the elements of an iterable (list, tuple, string, set etc.) to the end of the list\n",
    "# Syntax: list.extend(iterable)\n",
    "# This method takes an 'iterable' such as list, tuple, string, set etc.\n",
    "# This method modifies the original list. It doesn't return any value."
   ]
  },
  {
   "cell_type": "code",
   "execution_count": 159,
   "metadata": {},
   "outputs": [
    {
     "data": {
      "text/plain": [
       "['Chitrakshi',\n",
       " 'Gosain',\n",
       " 19,\n",
       " ['chitrakshi', 6072, '@', 'gmail', '.', 'com'],\n",
       " 'New Delhi',\n",
       " 'UNSW Sydney',\n",
       " 'Student']"
      ]
     },
     "execution_count": 159,
     "metadata": {},
     "output_type": "execute_result"
    }
   ],
   "source": [
    "lst1 = [\"Student\"]\n",
    "lst.extend(lst1)\n",
    "lst"
   ]
  },
  {
   "cell_type": "code",
   "execution_count": 160,
   "metadata": {},
   "outputs": [
    {
     "data": {
      "text/plain": [
       "['Chitrakshi',\n",
       " 'Gosain',\n",
       " 19,\n",
       " ['chitrakshi', 6072, '@', 'gmail', '.', 'com'],\n",
       " 'New Delhi',\n",
       " 'UNSW Sydney',\n",
       " 'Student',\n",
       " 'This',\n",
       " 'is']"
      ]
     },
     "execution_count": 160,
     "metadata": {},
     "output_type": "execute_result"
    }
   ],
   "source": [
    "tpl = (\"This\", \"is\")\n",
    "lst.extend(tpl)\n",
    "lst"
   ]
  },
  {
   "cell_type": "code",
   "execution_count": 161,
   "metadata": {},
   "outputs": [
    {
     "data": {
      "text/plain": [
       "['Chitrakshi',\n",
       " 'Gosain',\n",
       " 19,\n",
       " ['chitrakshi', 6072, '@', 'gmail', '.', 'com'],\n",
       " 'New Delhi',\n",
       " 'UNSW Sydney',\n",
       " 'Student',\n",
       " 'This',\n",
       " 'is',\n",
       " 'my',\n",
       " 'introduction']"
      ]
     },
     "execution_count": 161,
     "metadata": {},
     "output_type": "execute_result"
    }
   ],
   "source": [
    "st = {\"my\", \"introduction\", \"my\"}\n",
    "lst.extend(st)\n",
    "lst"
   ]
  },
  {
   "cell_type": "markdown",
   "metadata": {},
   "source": [
    "# -> Index"
   ]
  },
  {
   "cell_type": "code",
   "execution_count": 162,
   "metadata": {},
   "outputs": [],
   "source": [
    "# Returns the index of the specified element in the list\n",
    "# Syntax: list.index(element, start, end)\n",
    "# 'element' - the element to be searched\n",
    "# 'start' (optional) - start searching from this index\n",
    "# 'end' (optional) - search the element up to this index\n",
    "# This method only returns the first occurrence of the matching element.\n",
    "# If the element is not found, a 'ValueError: 'element' is not in list' exception is raised."
   ]
  },
  {
   "cell_type": "code",
   "execution_count": 163,
   "metadata": {},
   "outputs": [
    {
     "data": {
      "text/plain": [
       "2"
      ]
     },
     "execution_count": 163,
     "metadata": {},
     "output_type": "execute_result"
    }
   ],
   "source": [
    "lst.index(19)"
   ]
  },
  {
   "cell_type": "code",
   "execution_count": 164,
   "metadata": {},
   "outputs": [
    {
     "data": {
      "text/plain": [
       "1"
      ]
     },
     "execution_count": 164,
     "metadata": {},
     "output_type": "execute_result"
    }
   ],
   "source": [
    "lst.index(\"Gosain\")"
   ]
  },
  {
   "cell_type": "code",
   "execution_count": 165,
   "metadata": {},
   "outputs": [
    {
     "data": {
      "text/plain": [
       "3"
      ]
     },
     "execution_count": 165,
     "metadata": {},
     "output_type": "execute_result"
    }
   ],
   "source": [
    "lst.index(['chitrakshi', 6072, '@', 'gmail', '.', 'com'])"
   ]
  },
  {
   "cell_type": "code",
   "execution_count": 166,
   "metadata": {},
   "outputs": [
    {
     "ename": "ValueError",
     "evalue": "'@' is not in list",
     "output_type": "error",
     "traceback": [
      "\u001b[1;31m---------------------------------------------------------------------------\u001b[0m",
      "\u001b[1;31mValueError\u001b[0m                                Traceback (most recent call last)",
      "\u001b[1;32m<ipython-input-166-1f30a09dfb91>\u001b[0m in \u001b[0;36m<module>\u001b[1;34m\u001b[0m\n\u001b[1;32m----> 1\u001b[1;33m \u001b[0mlst\u001b[0m\u001b[1;33m.\u001b[0m\u001b[0mindex\u001b[0m\u001b[1;33m(\u001b[0m\u001b[1;34m\"@\"\u001b[0m\u001b[1;33m)\u001b[0m\u001b[1;33m\u001b[0m\u001b[1;33m\u001b[0m\u001b[0m\n\u001b[0m",
      "\u001b[1;31mValueError\u001b[0m: '@' is not in list"
     ]
    }
   ],
   "source": [
    "lst.index(\"@\")"
   ]
  },
  {
   "cell_type": "markdown",
   "metadata": {},
   "source": [
    "# -> Insert"
   ]
  },
  {
   "cell_type": "code",
   "execution_count": 167,
   "metadata": {},
   "outputs": [],
   "source": [
    "# Inserts an element to the list at the specified index\n",
    "# Syntax: list.insert(i, elem)\n",
    "# 'elem' is inserted to the list at the 'i'th index. All the elements after 'elem' are shifted to the right.\n",
    "# This method doesn't return anything. It only updates the current list.\n",
    "# If index is 0, 'elem' is inserted at the beginning of the list"
   ]
  },
  {
   "cell_type": "code",
   "execution_count": 168,
   "metadata": {},
   "outputs": [
    {
     "data": {
      "text/plain": [
       "['Chitrakshi',\n",
       " 'Gosain',\n",
       " 19,\n",
       " ['chitrakshi', 6072, '@', 'gmail', '.', 'com'],\n",
       " 'New Delhi',\n",
       " 'UNSW Sydney',\n",
       " 'Bachelor of CS and Neuroscience',\n",
       " 'Student',\n",
       " 'This',\n",
       " 'is',\n",
       " 'my',\n",
       " 'introduction']"
      ]
     },
     "execution_count": 168,
     "metadata": {},
     "output_type": "execute_result"
    }
   ],
   "source": [
    "lst.insert(6, \"Bachelor of CS and Neuroscience\")\n",
    "lst"
   ]
  },
  {
   "cell_type": "markdown",
   "metadata": {},
   "source": [
    "# -> Pop"
   ]
  },
  {
   "cell_type": "code",
   "execution_count": 169,
   "metadata": {},
   "outputs": [],
   "source": [
    "# Removes the item at the given index from the list and returns the removed item\n",
    "# Syntax: list.pop(index)\n",
    "# 'index' - the position of item to be removed\n",
    "# 'index' is optional\n",
    "# When 'index' is not specified it pops the last item i.e. the one at index '-1'\n",
    "# If the index passed to the method is not in range, it throws 'IndexError: pop index out of range' exception.\n",
    "# This method returns the item present at the given index. This item is also removed from the list."
   ]
  },
  {
   "cell_type": "code",
   "execution_count": 170,
   "metadata": {},
   "outputs": [
    {
     "data": {
      "text/plain": [
       "'introduction'"
      ]
     },
     "execution_count": 170,
     "metadata": {},
     "output_type": "execute_result"
    }
   ],
   "source": [
    "lst.pop()"
   ]
  },
  {
   "cell_type": "code",
   "execution_count": 171,
   "metadata": {},
   "outputs": [
    {
     "data": {
      "text/plain": [
       "'is'"
      ]
     },
     "execution_count": 171,
     "metadata": {},
     "output_type": "execute_result"
    }
   ],
   "source": [
    "lst.pop(-2)"
   ]
  },
  {
   "cell_type": "code",
   "execution_count": 172,
   "metadata": {},
   "outputs": [
    {
     "ename": "IndexError",
     "evalue": "pop index out of range",
     "output_type": "error",
     "traceback": [
      "\u001b[1;31m---------------------------------------------------------------------------\u001b[0m",
      "\u001b[1;31mIndexError\u001b[0m                                Traceback (most recent call last)",
      "\u001b[1;32m<ipython-input-172-9226342bf8ca>\u001b[0m in \u001b[0;36m<module>\u001b[1;34m\u001b[0m\n\u001b[1;32m----> 1\u001b[1;33m \u001b[0mlst\u001b[0m\u001b[1;33m.\u001b[0m\u001b[0mpop\u001b[0m\u001b[1;33m(\u001b[0m\u001b[1;36m20\u001b[0m\u001b[1;33m)\u001b[0m\u001b[1;33m\u001b[0m\u001b[1;33m\u001b[0m\u001b[0m\n\u001b[0m",
      "\u001b[1;31mIndexError\u001b[0m: pop index out of range"
     ]
    }
   ],
   "source": [
    "lst.pop(20)"
   ]
  },
  {
   "cell_type": "markdown",
   "metadata": {},
   "source": [
    "# -> Remove"
   ]
  },
  {
   "cell_type": "code",
   "execution_count": 173,
   "metadata": {},
   "outputs": [],
   "source": [
    "# Removes the first matching element (which is passed as an argument) from the list\n",
    "# Syntax: \n",
    "# list.remove(element)\n",
    "# 'element' - the item from list to be removed\n",
    "# If the element doesn't exist, it throws 'ValueError: list.remove(x): x not in list' exception.\n",
    "# This method doesn't return any value."
   ]
  },
  {
   "cell_type": "code",
   "execution_count": 174,
   "metadata": {},
   "outputs": [
    {
     "data": {
      "text/plain": [
       "['Chitrakshi',\n",
       " 'Gosain',\n",
       " 19,\n",
       " ['chitrakshi', 6072, '@', 'gmail', '.', 'com'],\n",
       " 'New Delhi',\n",
       " 'UNSW Sydney',\n",
       " 'Bachelor of CS and Neuroscience',\n",
       " 'Student',\n",
       " 'This']"
      ]
     },
     "execution_count": 174,
     "metadata": {},
     "output_type": "execute_result"
    }
   ],
   "source": [
    "lst.remove(\"my\")\n",
    "lst"
   ]
  },
  {
   "cell_type": "markdown",
   "metadata": {},
   "source": [
    "# -> Reverse"
   ]
  },
  {
   "cell_type": "code",
   "execution_count": 175,
   "metadata": {},
   "outputs": [],
   "source": [
    "# Reverses the elements of the list\n",
    "# Syntax: list.reverse()\n",
    "# This method doesn't take any arguments\n",
    "# This method doesn't return any value. It updates the existing list"
   ]
  },
  {
   "cell_type": "code",
   "execution_count": 176,
   "metadata": {},
   "outputs": [
    {
     "data": {
      "text/plain": [
       "['This',\n",
       " 'Student',\n",
       " 'Bachelor of CS and Neuroscience',\n",
       " 'UNSW Sydney',\n",
       " 'New Delhi',\n",
       " ['chitrakshi', 6072, '@', 'gmail', '.', 'com'],\n",
       " 19,\n",
       " 'Gosain',\n",
       " 'Chitrakshi']"
      ]
     },
     "execution_count": 176,
     "metadata": {},
     "output_type": "execute_result"
    }
   ],
   "source": [
    "lst.reverse()\n",
    "lst"
   ]
  },
  {
   "cell_type": "code",
   "execution_count": 177,
   "metadata": {},
   "outputs": [
    {
     "data": {
      "text/plain": [
       "['Chitrakshi',\n",
       " 'Gosain',\n",
       " 19,\n",
       " ['chitrakshi', 6072, '@', 'gmail', '.', 'com'],\n",
       " 'New Delhi',\n",
       " 'UNSW Sydney',\n",
       " 'Bachelor of CS and Neuroscience',\n",
       " 'Student',\n",
       " 'This']"
      ]
     },
     "execution_count": 177,
     "metadata": {},
     "output_type": "execute_result"
    }
   ],
   "source": [
    "# A double reverse would mean keep the original order of list intact\n",
    "lst.reverse()\n",
    "lst"
   ]
  },
  {
   "cell_type": "markdown",
   "metadata": {},
   "source": [
    "# -> Sort"
   ]
  },
  {
   "cell_type": "code",
   "execution_count": 178,
   "metadata": {},
   "outputs": [],
   "source": [
    "# Sorts the elements of a given list in a specific ascending or descending order\n",
    "# Syntax: list.sort(key=..., reverse=...)\n",
    "# parameters 'key' and 'reverse' are optional\n",
    "# 'reverse' - If 'True', the **sorted list is reversed** (or sorted in Descending order)\n",
    "# 'key' - function that serves as a key for the sort comparison\n",
    "# This method doesn't return any value rather it changes the original list.\n",
    "# IMPORTANT: This method only works with similar datatypes."
   ]
  },
  {
   "cell_type": "code",
   "execution_count": 179,
   "metadata": {},
   "outputs": [
    {
     "ename": "TypeError",
     "evalue": "'<' not supported between instances of 'int' and 'str'",
     "output_type": "error",
     "traceback": [
      "\u001b[1;31m---------------------------------------------------------------------------\u001b[0m",
      "\u001b[1;31mTypeError\u001b[0m                                 Traceback (most recent call last)",
      "\u001b[1;32m<ipython-input-179-b7de4ff5ffae>\u001b[0m in \u001b[0;36m<module>\u001b[1;34m\u001b[0m\n\u001b[1;32m----> 1\u001b[1;33m \u001b[0mlst\u001b[0m\u001b[1;33m.\u001b[0m\u001b[0msort\u001b[0m\u001b[1;33m(\u001b[0m\u001b[1;33m)\u001b[0m\u001b[1;33m\u001b[0m\u001b[1;33m\u001b[0m\u001b[0m\n\u001b[0m",
      "\u001b[1;31mTypeError\u001b[0m: '<' not supported between instances of 'int' and 'str'"
     ]
    }
   ],
   "source": [
    "lst.sort()"
   ]
  },
  {
   "cell_type": "code",
   "execution_count": 180,
   "metadata": {},
   "outputs": [
    {
     "data": {
      "text/plain": [
       "['Bachelor of CS and Neuroscience',\n",
       " 'Chitrakshi',\n",
       " 'Gosain',\n",
       " 'New Delhi',\n",
       " 'Student',\n",
       " 'This',\n",
       " 'UNSW Sydney']"
      ]
     },
     "execution_count": 180,
     "metadata": {},
     "output_type": "execute_result"
    }
   ],
   "source": [
    "lst.remove(19)\n",
    "lst.remove(['chitrakshi', 6072, '@', 'gmail', '.', 'com'])\n",
    "lst.sort()\n",
    "lst"
   ]
  },
  {
   "cell_type": "code",
   "execution_count": 181,
   "metadata": {},
   "outputs": [
    {
     "data": {
      "text/plain": [
       "[2, 3, 31]"
      ]
     },
     "execution_count": 181,
     "metadata": {},
     "output_type": "execute_result"
    }
   ],
   "source": [
    "lst1 = [3, 2, 31]\n",
    "lst1.sort()\n",
    "lst1\n"
   ]
  }
 ],
 "metadata": {
  "kernelspec": {
   "display_name": "Python 3",
   "language": "python",
   "name": "python3"
  },
  "language_info": {
   "codemirror_mode": {
    "name": "ipython",
    "version": 3
   },
   "file_extension": ".py",
   "mimetype": "text/x-python",
   "name": "python",
   "nbconvert_exporter": "python",
   "pygments_lexer": "ipython3",
   "version": "3.8.3"
  }
 },
 "nbformat": 4,
 "nbformat_minor": 4
}
