{
 "cells": [
  {
   "cell_type": "markdown",
   "metadata": {},
   "source": [
    "# Declaring a list"
   ]
  },
  {
   "cell_type": "code",
   "execution_count": 2,
   "metadata": {},
   "outputs": [],
   "source": [
    "lst = [\"Chitrakshi\", \"Gosain\", 19, [\"chitrakshi\", 6072, \"@\", \"gmail\", \".\", \"com\"], \"New Delhi\"]"
   ]
  },
  {
   "cell_type": "markdown",
   "metadata": {},
   "source": [
    "# Implementing various methods of 'List' Object"
   ]
  },
  {
   "cell_type": "markdown",
   "metadata": {},
   "source": [
    "# -> Append"
   ]
  },
  {
   "cell_type": "code",
   "execution_count": 19,
   "metadata": {},
   "outputs": [],
   "source": [
    "# Adds an element to the end of a list\n",
    "# Syntax: list.append(item)\n",
    "# 'item' can be numbers, strings, dictionaries, another list, etc.\n",
    "# This method doesn't return any value. \n",
    "# Adds only one element at once unlike extend which can add multiple items at once"
   ]
  },
  {
   "cell_type": "code",
   "execution_count": 3,
   "metadata": {},
   "outputs": [
    {
     "data": {
      "text/plain": [
       "['Chitrakshi',\n",
       " 'Gosain',\n",
       " 19,\n",
       " ['chitrakshi', 6072, '@', 'gmail', '.', 'com'],\n",
       " 'New Delhi',\n",
       " 'UNSW Sydney']"
      ]
     },
     "execution_count": 3,
     "metadata": {},
     "output_type": "execute_result"
    }
   ],
   "source": [
    "lst.append(\"UNSW Sydney\")\n",
    "lst"
   ]
  },
  {
   "cell_type": "code",
   "execution_count": 4,
   "metadata": {},
   "outputs": [
    {
     "data": {
      "text/plain": [
       "['My Introduction',\n",
       " ['Chitrakshi',\n",
       "  'Gosain',\n",
       "  19,\n",
       "  ['chitrakshi', 6072, '@', 'gmail', '.', 'com'],\n",
       "  'New Delhi',\n",
       "  'UNSW Sydney']]"
      ]
     },
     "execution_count": 4,
     "metadata": {},
     "output_type": "execute_result"
    }
   ],
   "source": [
    "lst1 = [\"My Introduction\"]\n",
    "lst1.append(lst)\n",
    "lst1"
   ]
  },
  {
   "cell_type": "markdown",
   "metadata": {},
   "source": [
    "# -> Copy"
   ]
  },
  {
   "cell_type": "code",
   "execution_count": 5,
   "metadata": {},
   "outputs": [],
   "source": [
    "# Makes a shallow copy of the list\n",
    "# Syntax: new_list = old_list.copy()\n",
    "# This method does not take any parameters.\n",
    "# This method returns a new list. It doesn't modify the original list."
   ]
  },
  {
   "cell_type": "code",
   "execution_count": 6,
   "metadata": {},
   "outputs": [
    {
     "data": {
      "text/plain": [
       "['Chitrakshi',\n",
       " 'Gosain',\n",
       " 19,\n",
       " ['chitrakshi', 6072, '@', 'gmail', '.', 'com'],\n",
       " 'New Delhi',\n",
       " 'UNSW Sydney']"
      ]
     },
     "execution_count": 6,
     "metadata": {},
     "output_type": "execute_result"
    }
   ],
   "source": [
    "lst2 = lst.copy()\n",
    "lst2"
   ]
  },
  {
   "cell_type": "markdown",
   "metadata": {},
   "source": [
    "# -> Clear"
   ]
  },
  {
   "cell_type": "code",
   "execution_count": 7,
   "metadata": {},
   "outputs": [],
   "source": [
    "# Clears the list\n",
    "# Syntax: list.clear()\n",
    "# This method does not take any parameters.\n",
    "# This method only empties the given list. It doesn't return any value"
   ]
  },
  {
   "cell_type": "code",
   "execution_count": 8,
   "metadata": {},
   "outputs": [
    {
     "data": {
      "text/plain": [
       "[]"
      ]
     },
     "execution_count": 8,
     "metadata": {},
     "output_type": "execute_result"
    }
   ],
   "source": [
    "lst1.clear()\n",
    "lst1"
   ]
  },
  {
   "cell_type": "code",
   "execution_count": 9,
   "metadata": {},
   "outputs": [
    {
     "data": {
      "text/plain": [
       "['Chitrakshi',\n",
       " 'Gosain',\n",
       " 19,\n",
       " ['chitrakshi', 6072, '@', 'gmail', '.', 'com'],\n",
       " 'New Delhi',\n",
       " 'UNSW Sydney']"
      ]
     },
     "execution_count": 9,
     "metadata": {},
     "output_type": "execute_result"
    }
   ],
   "source": [
    "lst"
   ]
  },
  {
   "cell_type": "markdown",
   "metadata": {},
   "source": [
    "# -> Count"
   ]
  },
  {
   "cell_type": "code",
   "execution_count": 10,
   "metadata": {},
   "outputs": [],
   "source": [
    "# Counts the number of times the specified element appears in the list.\n",
    "# Syntax: old_list.count(element)\n",
    "# 'element' - the element to be counted\n",
    "# This method returns the number of times 'element' appears in the list."
   ]
  },
  {
   "cell_type": "code",
   "execution_count": 11,
   "metadata": {},
   "outputs": [
    {
     "data": {
      "text/plain": [
       "1"
      ]
     },
     "execution_count": 11,
     "metadata": {},
     "output_type": "execute_result"
    }
   ],
   "source": [
    "lst.count(19)"
   ]
  },
  {
   "cell_type": "code",
   "execution_count": 12,
   "metadata": {},
   "outputs": [
    {
     "data": {
      "text/plain": [
       "1"
      ]
     },
     "execution_count": 12,
     "metadata": {},
     "output_type": "execute_result"
    }
   ],
   "source": [
    "lst.count(\"Gosain\")"
   ]
  },
  {
   "cell_type": "code",
   "execution_count": 13,
   "metadata": {},
   "outputs": [
    {
     "data": {
      "text/plain": [
       "0"
      ]
     },
     "execution_count": 13,
     "metadata": {},
     "output_type": "execute_result"
    }
   ],
   "source": [
    "lst.count(\"@\")"
   ]
  },
  {
   "cell_type": "code",
   "execution_count": 14,
   "metadata": {},
   "outputs": [
    {
     "data": {
      "text/plain": [
       "1"
      ]
     },
     "execution_count": 14,
     "metadata": {},
     "output_type": "execute_result"
    }
   ],
   "source": [
    "# We can also count list(s), set(s) or tuple(s) within the list\n",
    "lst.count(['chitrakshi', 6072, '@', 'gmail', '.', 'com'])"
   ]
  },
  {
   "cell_type": "markdown",
   "metadata": {},
   "source": [
    "# -> Extend"
   ]
  },
  {
   "cell_type": "code",
   "execution_count": 15,
   "metadata": {},
   "outputs": [],
   "source": [
    "# Adds all the elements of an iterable (list, tuple, string, set etc.) to the end of the list\n",
    "# Syntax: list.extend(iterable)\n",
    "# This method takes an 'iterable' such as list, tuple, string, set etc.\n",
    "# This method modifies the original list. It doesn't return any value."
   ]
  },
  {
   "cell_type": "code",
   "execution_count": 16,
   "metadata": {},
   "outputs": [
    {
     "data": {
      "text/plain": [
       "['Chitrakshi',\n",
       " 'Gosain',\n",
       " 19,\n",
       " ['chitrakshi', 6072, '@', 'gmail', '.', 'com'],\n",
       " 'New Delhi',\n",
       " 'UNSW Sydney',\n",
       " 'Student']"
      ]
     },
     "execution_count": 16,
     "metadata": {},
     "output_type": "execute_result"
    }
   ],
   "source": [
    "lst1 = [\"Student\"]\n",
    "lst.extend(lst1)\n",
    "lst"
   ]
  },
  {
   "cell_type": "code",
   "execution_count": 17,
   "metadata": {},
   "outputs": [
    {
     "data": {
      "text/plain": [
       "['Chitrakshi',\n",
       " 'Gosain',\n",
       " 19,\n",
       " ['chitrakshi', 6072, '@', 'gmail', '.', 'com'],\n",
       " 'New Delhi',\n",
       " 'UNSW Sydney',\n",
       " 'Student',\n",
       " 'This',\n",
       " 'is']"
      ]
     },
     "execution_count": 17,
     "metadata": {},
     "output_type": "execute_result"
    }
   ],
   "source": [
    "tpl = (\"This\", \"is\")\n",
    "lst.extend(tpl)\n",
    "lst"
   ]
  },
  {
   "cell_type": "code",
   "execution_count": 18,
   "metadata": {},
   "outputs": [
    {
     "data": {
      "text/plain": [
       "['Chitrakshi',\n",
       " 'Gosain',\n",
       " 19,\n",
       " ['chitrakshi', 6072, '@', 'gmail', '.', 'com'],\n",
       " 'New Delhi',\n",
       " 'UNSW Sydney',\n",
       " 'Student',\n",
       " 'This',\n",
       " 'is',\n",
       " 'my',\n",
       " 'introduction']"
      ]
     },
     "execution_count": 18,
     "metadata": {},
     "output_type": "execute_result"
    }
   ],
   "source": [
    "st = {\"my\", \"introduction\", \"my\"}\n",
    "lst.extend(st)\n",
    "lst"
   ]
  }
 ],
 "metadata": {
  "kernelspec": {
   "display_name": "Python 3",
   "language": "python",
   "name": "python3"
  },
  "language_info": {
   "codemirror_mode": {
    "name": "ipython",
    "version": 3
   },
   "file_extension": ".py",
   "mimetype": "text/x-python",
   "name": "python",
   "nbconvert_exporter": "python",
   "pygments_lexer": "ipython3",
   "version": "3.8.3"
  }
 },
 "nbformat": 4,
 "nbformat_minor": 4
}
